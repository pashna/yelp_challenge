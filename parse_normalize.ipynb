{
 "cells": [
  {
   "cell_type": "markdown",
   "metadata": {},
   "source": [
    "#Parse & Normalize"
   ]
  },
  {
   "cell_type": "code",
   "execution_count": 219,
   "metadata": {
    "collapsed": true
   },
   "outputs": [],
   "source": [
    "import pandas as pd\n",
    "import numpy as np\n",
    "import json\n",
    "import csv\n",
    "import re"
   ]
  },
  {
   "cell_type": "code",
   "execution_count": 248,
   "metadata": {
    "collapsed": true
   },
   "outputs": [],
   "source": [
    "def parse_json(file_name, start = None, end = None):\n",
    "    with open(file_name, 'rb') as f:\n",
    "        data = f.readlines()\n",
    "    s = start if start else 0\n",
    "    e = end if end else len(data)\n",
    "    data = data[s:e]\n",
    "    data = map(lambda string: string.rstrip(), data)\n",
    "    data = \"[\" + ','.join(data) + \"]\"\n",
    "    return pd.read_json(data)\n",
    "\n",
    "df_business = parse_json(\"yelp_dataset_challenge_academic_dataset/yelp_academic_dataset_business.json\")\n",
    "df_checkin = parse_json(\"yelp_dataset_challenge_academic_dataset/yelp_academic_dataset_checkin.json\")\n",
    "df_review = parse_json(\"yelp_dataset_challenge_academic_dataset/yelp_academic_dataset_review.json\", 0, 500000)\n",
    "df_user = parse_json(\"yelp_dataset_challenge_academic_dataset/yelp_academic_dataset_user.json\")\n",
    "df_tip = parse_json(\"yelp_dataset_challenge_academic_dataset/yelp_academic_dataset_tip.json\")"
   ]
  },
  {
   "cell_type": "code",
   "execution_count": 249,
   "metadata": {
    "collapsed": false
   },
   "outputs": [
    {
     "data": {
      "text/html": [
       "<div style=\"max-height:1000px;max-width:1500px;overflow:auto;\">\n",
       "<table border=\"1\" class=\"dataframe\">\n",
       "  <thead>\n",
       "    <tr style=\"text-align: right;\">\n",
       "      <th></th>\n",
       "      <th>attributes</th>\n",
       "      <th>business_id</th>\n",
       "      <th>categories</th>\n",
       "      <th>city</th>\n",
       "      <th>full_address</th>\n",
       "      <th>hours</th>\n",
       "      <th>latitude</th>\n",
       "      <th>longitude</th>\n",
       "      <th>name</th>\n",
       "      <th>neighborhoods</th>\n",
       "      <th>open</th>\n",
       "      <th>review_count</th>\n",
       "      <th>stars</th>\n",
       "      <th>state</th>\n",
       "      <th>type</th>\n",
       "    </tr>\n",
       "  </thead>\n",
       "  <tbody>\n",
       "    <tr>\n",
       "      <th>0</th>\n",
       "      <td> {u'By Appointment Only': True}</td>\n",
       "      <td> vcNAWiLM4dR7D2nwwJ7nCA</td>\n",
       "      <td> [Doctors, Health &amp; Medical]</td>\n",
       "      <td> Phoenix</td>\n",
       "      <td> 4840 E Indian School Rd\\nSte 101\\nPhoenix, AZ ...</td>\n",
       "      <td> {u'Thursday': {u'close': u'17:00', u'open': u'...</td>\n",
       "      <td> 33.499313</td>\n",
       "      <td>-111.983758</td>\n",
       "      <td> Eric Goldberg, MD</td>\n",
       "      <td> []</td>\n",
       "      <td> True</td>\n",
       "      <td> 9</td>\n",
       "      <td> 3.5</td>\n",
       "      <td> AZ</td>\n",
       "      <td> business</td>\n",
       "    </tr>\n",
       "  </tbody>\n",
       "</table>\n",
       "</div>"
      ],
      "text/plain": [
       "                       attributes             business_id  \\\n",
       "0  {u'By Appointment Only': True}  vcNAWiLM4dR7D2nwwJ7nCA   \n",
       "\n",
       "                    categories     city  \\\n",
       "0  [Doctors, Health & Medical]  Phoenix   \n",
       "\n",
       "                                        full_address  \\\n",
       "0  4840 E Indian School Rd\\nSte 101\\nPhoenix, AZ ...   \n",
       "\n",
       "                                               hours   latitude   longitude  \\\n",
       "0  {u'Thursday': {u'close': u'17:00', u'open': u'...  33.499313 -111.983758   \n",
       "\n",
       "                name neighborhoods  open  review_count  stars state      type  \n",
       "0  Eric Goldberg, MD            []  True             9    3.5    AZ  business  "
      ]
     },
     "execution_count": 249,
     "metadata": {},
     "output_type": "execute_result"
    }
   ],
   "source": [
    "df_business.head(1)"
   ]
  },
  {
   "cell_type": "code",
   "execution_count": 250,
   "metadata": {
    "collapsed": false
   },
   "outputs": [
    {
     "data": {
      "text/html": [
       "<div style=\"max-height:1000px;max-width:1500px;overflow:auto;\">\n",
       "<table border=\"1\" class=\"dataframe\">\n",
       "  <thead>\n",
       "    <tr style=\"text-align: right;\">\n",
       "      <th></th>\n",
       "      <th>business_id</th>\n",
       "      <th>checkin_info</th>\n",
       "      <th>type</th>\n",
       "    </tr>\n",
       "  </thead>\n",
       "  <tbody>\n",
       "    <tr>\n",
       "      <th>0</th>\n",
       "      <td> cE27W9VPgO88Qxe4ol6y_g</td>\n",
       "      <td> {u'9-5': 1, u'7-5': 1, u'13-3': 1, u'17-6': 1,...</td>\n",
       "      <td> checkin</td>\n",
       "    </tr>\n",
       "  </tbody>\n",
       "</table>\n",
       "</div>"
      ],
      "text/plain": [
       "              business_id                                       checkin_info  \\\n",
       "0  cE27W9VPgO88Qxe4ol6y_g  {u'9-5': 1, u'7-5': 1, u'13-3': 1, u'17-6': 1,...   \n",
       "\n",
       "      type  \n",
       "0  checkin  "
      ]
     },
     "execution_count": 250,
     "metadata": {},
     "output_type": "execute_result"
    }
   ],
   "source": [
    "df_checkin.head(1)"
   ]
  },
  {
   "cell_type": "code",
   "execution_count": 251,
   "metadata": {
    "collapsed": false
   },
   "outputs": [
    {
     "data": {
      "text/html": [
       "<div style=\"max-height:1000px;max-width:1500px;overflow:auto;\">\n",
       "<table border=\"1\" class=\"dataframe\">\n",
       "  <thead>\n",
       "    <tr style=\"text-align: right;\">\n",
       "      <th></th>\n",
       "      <th>business_id</th>\n",
       "      <th>date</th>\n",
       "      <th>review_id</th>\n",
       "      <th>stars</th>\n",
       "      <th>text</th>\n",
       "      <th>type</th>\n",
       "      <th>user_id</th>\n",
       "      <th>votes</th>\n",
       "    </tr>\n",
       "  </thead>\n",
       "  <tbody>\n",
       "    <tr>\n",
       "      <th>0</th>\n",
       "      <td> vcNAWiLM4dR7D2nwwJ7nCA</td>\n",
       "      <td>2007-05-17</td>\n",
       "      <td> 15SdjuK7DmYqUAj6rjGowg</td>\n",
       "      <td> 5</td>\n",
       "      <td> dr. goldberg offers everything i look for in a...</td>\n",
       "      <td> review</td>\n",
       "      <td> Xqd0DzHaiyRqVH3WRG7hzg</td>\n",
       "      <td> {u'funny': 0, u'useful': 2, u'cool': 1}</td>\n",
       "    </tr>\n",
       "  </tbody>\n",
       "</table>\n",
       "</div>"
      ],
      "text/plain": [
       "              business_id       date               review_id  stars  \\\n",
       "0  vcNAWiLM4dR7D2nwwJ7nCA 2007-05-17  15SdjuK7DmYqUAj6rjGowg      5   \n",
       "\n",
       "                                                text    type  \\\n",
       "0  dr. goldberg offers everything i look for in a...  review   \n",
       "\n",
       "                  user_id                                    votes  \n",
       "0  Xqd0DzHaiyRqVH3WRG7hzg  {u'funny': 0, u'useful': 2, u'cool': 1}  "
      ]
     },
     "execution_count": 251,
     "metadata": {},
     "output_type": "execute_result"
    }
   ],
   "source": [
    "df_review.head(1)"
   ]
  },
  {
   "cell_type": "code",
   "execution_count": 252,
   "metadata": {
    "collapsed": false
   },
   "outputs": [
    {
     "data": {
      "text/html": [
       "<div style=\"max-height:1000px;max-width:1500px;overflow:auto;\">\n",
       "<table border=\"1\" class=\"dataframe\">\n",
       "  <thead>\n",
       "    <tr style=\"text-align: right;\">\n",
       "      <th></th>\n",
       "      <th>average_stars</th>\n",
       "      <th>compliments</th>\n",
       "      <th>elite</th>\n",
       "      <th>fans</th>\n",
       "      <th>friends</th>\n",
       "      <th>name</th>\n",
       "      <th>review_count</th>\n",
       "      <th>type</th>\n",
       "      <th>user_id</th>\n",
       "      <th>votes</th>\n",
       "      <th>yelping_since</th>\n",
       "    </tr>\n",
       "  </thead>\n",
       "  <tbody>\n",
       "    <tr>\n",
       "      <th>0</th>\n",
       "      <td> 4.14</td>\n",
       "      <td> {u'profile': 8, u'cute': 15, u'funny': 11, u'p...</td>\n",
       "      <td> [2005, 2006]</td>\n",
       "      <td> 69</td>\n",
       "      <td> [rpOyqD_893cqmDAtJLbdog, 4U9kSBLuBDU391x6bxU-Y...</td>\n",
       "      <td> Russel</td>\n",
       "      <td> 108</td>\n",
       "      <td> user</td>\n",
       "      <td> 18kPq7GPye-YQ3LyKyAZPw</td>\n",
       "      <td> {u'funny': 166, u'useful': 278, u'cool': 245}</td>\n",
       "      <td> 2004-10</td>\n",
       "    </tr>\n",
       "  </tbody>\n",
       "</table>\n",
       "</div>"
      ],
      "text/plain": [
       "   average_stars                                        compliments  \\\n",
       "0           4.14  {u'profile': 8, u'cute': 15, u'funny': 11, u'p...   \n",
       "\n",
       "          elite  fans                                            friends  \\\n",
       "0  [2005, 2006]    69  [rpOyqD_893cqmDAtJLbdog, 4U9kSBLuBDU391x6bxU-Y...   \n",
       "\n",
       "     name  review_count  type                 user_id  \\\n",
       "0  Russel           108  user  18kPq7GPye-YQ3LyKyAZPw   \n",
       "\n",
       "                                           votes yelping_since  \n",
       "0  {u'funny': 166, u'useful': 278, u'cool': 245}       2004-10  "
      ]
     },
     "execution_count": 252,
     "metadata": {},
     "output_type": "execute_result"
    }
   ],
   "source": [
    "df_user.head(1)"
   ]
  },
  {
   "cell_type": "code",
   "execution_count": 253,
   "metadata": {
    "collapsed": false
   },
   "outputs": [
    {
     "data": {
      "text/html": [
       "<div style=\"max-height:1000px;max-width:1500px;overflow:auto;\">\n",
       "<table border=\"1\" class=\"dataframe\">\n",
       "  <thead>\n",
       "    <tr style=\"text-align: right;\">\n",
       "      <th></th>\n",
       "      <th>business_id</th>\n",
       "      <th>date</th>\n",
       "      <th>likes</th>\n",
       "      <th>text</th>\n",
       "      <th>type</th>\n",
       "      <th>user_id</th>\n",
       "    </tr>\n",
       "  </thead>\n",
       "  <tbody>\n",
       "    <tr>\n",
       "      <th>0</th>\n",
       "      <td> cE27W9VPgO88Qxe4ol6y_g</td>\n",
       "      <td>2013-04-18</td>\n",
       "      <td> 0</td>\n",
       "      <td> Don't waste your time.</td>\n",
       "      <td> tip</td>\n",
       "      <td> -6rEfobYjMxpUWLNxszaxQ</td>\n",
       "    </tr>\n",
       "  </tbody>\n",
       "</table>\n",
       "</div>"
      ],
      "text/plain": [
       "              business_id       date  likes                    text type  \\\n",
       "0  cE27W9VPgO88Qxe4ol6y_g 2013-04-18      0  Don't waste your time.  tip   \n",
       "\n",
       "                  user_id  \n",
       "0  -6rEfobYjMxpUWLNxszaxQ  "
      ]
     },
     "execution_count": 253,
     "metadata": {},
     "output_type": "execute_result"
    }
   ],
   "source": [
    "df_tip.head(1)"
   ]
  },
  {
   "cell_type": "code",
   "execution_count": 287,
   "metadata": {
    "collapsed": false
   },
   "outputs": [],
   "source": [
    "def set_prefix_and_underscores(prefix, columns):\n",
    "    underscorizer = lambda string: re.sub(r\"[\\s.-]\", \"_\", string.lower())\n",
    "    columns[:] = map(underscorizer, columns)\n",
    "    prefix_setter = lambda string: prefix + u\"_\" + string\n",
    "    columns[:] = map(prefix_setter, columns)\n",
    "\n",
    "def get_lists_as_dicts(series):\n",
    "    caster = lambda lst: {str(value): True for value in lst}\n",
    "    return series.apply(caster)\n",
    "\n",
    "def get_values_counted(series):\n",
    "    counter = lambda lst: len(lst)\n",
    "    return series.apply(counter)\n",
    "\n",
    "def get_lists_as_strings(series):\n",
    "    caster = lambda lst: \",\".join(lst)\n",
    "    return series.apply(caster)"
   ]
  },
  {
   "cell_type": "markdown",
   "metadata": {},
   "source": [
    "##business dataframe normalization"
   ]
  },
  {
   "cell_type": "code",
   "execution_count": 282,
   "metadata": {
    "collapsed": false
   },
   "outputs": [],
   "source": [
    "# SKIP THIS STEP \n",
    "# TODO: try to normalize attributes...\n",
    "#df_n_attributes = pd.io.json.json_normalize(df_business['attributes'].tolist())\n",
    "#print set(type(a) for a in df_n_attributes['Accepts Credit Cards'].tolist()) \n",
    "#df_n_attributes.head()"
   ]
  },
  {
   "cell_type": "code",
   "execution_count": 283,
   "metadata": {
    "collapsed": false
   },
   "outputs": [
    {
     "data": {
      "text/html": [
       "<div style=\"max-height:1000px;max-width:1500px;overflow:auto;\">\n",
       "<table border=\"1\" class=\"dataframe\">\n",
       "  <thead>\n",
       "    <tr style=\"text-align: right;\">\n",
       "      <th></th>\n",
       "      <th>category_accessories</th>\n",
       "      <th>category_accountants</th>\n",
       "      <th>category_active_life</th>\n",
       "      <th>category_acupuncture</th>\n",
       "      <th>category_adult</th>\n",
       "      <th>category_adult_education</th>\n",
       "      <th>category_adult_entertainment</th>\n",
       "      <th>category_advertising</th>\n",
       "      <th>category_afghan</th>\n",
       "      <th>category_african</th>\n",
       "      <th>...</th>\n",
       "      <th>category_windows_installation</th>\n",
       "      <th>category_windshield_installation_&amp;_repair</th>\n",
       "      <th>category_wine_bars</th>\n",
       "      <th>category_wine_tours</th>\n",
       "      <th>category_wineries</th>\n",
       "      <th>category_wok</th>\n",
       "      <th>category_women's_clothing</th>\n",
       "      <th>category_yelp_events</th>\n",
       "      <th>category_yoga</th>\n",
       "      <th>category_zoos</th>\n",
       "    </tr>\n",
       "  </thead>\n",
       "  <tbody>\n",
       "    <tr>\n",
       "      <th>0</th>\n",
       "      <td> False</td>\n",
       "      <td> False</td>\n",
       "      <td> False</td>\n",
       "      <td> False</td>\n",
       "      <td> False</td>\n",
       "      <td> False</td>\n",
       "      <td> False</td>\n",
       "      <td> False</td>\n",
       "      <td> False</td>\n",
       "      <td> False</td>\n",
       "      <td>...</td>\n",
       "      <td> False</td>\n",
       "      <td> False</td>\n",
       "      <td> False</td>\n",
       "      <td> False</td>\n",
       "      <td> False</td>\n",
       "      <td> False</td>\n",
       "      <td> False</td>\n",
       "      <td> False</td>\n",
       "      <td> False</td>\n",
       "      <td> False</td>\n",
       "    </tr>\n",
       "  </tbody>\n",
       "</table>\n",
       "<p>1 rows × 783 columns</p>\n",
       "</div>"
      ],
      "text/plain": [
       "  category_accessories category_accountants category_active_life  \\\n",
       "0                False                False                False   \n",
       "\n",
       "  category_acupuncture category_adult category_adult_education  \\\n",
       "0                False          False                    False   \n",
       "\n",
       "  category_adult_entertainment category_advertising category_afghan  \\\n",
       "0                        False                False           False   \n",
       "\n",
       "  category_african       ...        category_windows_installation  \\\n",
       "0            False       ...                                False   \n",
       "\n",
       "  category_windshield_installation_&_repair category_wine_bars  \\\n",
       "0                                     False              False   \n",
       "\n",
       "  category_wine_tours category_wineries category_wok  \\\n",
       "0               False             False        False   \n",
       "\n",
       "  category_women's_clothing category_yelp_events category_yoga category_zoos  \n",
       "0                     False                False         False         False  \n",
       "\n",
       "[1 rows x 783 columns]"
      ]
     },
     "execution_count": 283,
     "metadata": {},
     "output_type": "execute_result"
    }
   ],
   "source": [
    "categories = get_lists_as_dicts(df_business['categories'])\n",
    "df_n_categories = pd.io.json.json_normalize(categories.tolist())\n",
    "df_n_categories.fillna(False, inplace = True)\n",
    "cols = df_n_categories.columns.tolist()\n",
    "set_prefix_and_underscores(u\"category\", cols)\n",
    "df_n_categories.columns = cols\n",
    "\n",
    "df_n_categories.head(1)"
   ]
  },
  {
   "cell_type": "code",
   "execution_count": 284,
   "metadata": {
    "collapsed": false
   },
   "outputs": [
    {
     "data": {
      "text/html": [
       "<div style=\"max-height:1000px;max-width:1500px;overflow:auto;\">\n",
       "<table border=\"1\" class=\"dataframe\">\n",
       "  <thead>\n",
       "    <tr style=\"text-align: right;\">\n",
       "      <th></th>\n",
       "      <th>neighborhood_allentown</th>\n",
       "      <th>neighborhood_allied_dunn's_marsh</th>\n",
       "      <th>neighborhood_anthem</th>\n",
       "      <th>neighborhood_arboretum</th>\n",
       "      <th>neighborhood_aspinwall</th>\n",
       "      <th>neighborhood_avalon</th>\n",
       "      <th>neighborhood_ballantyne</th>\n",
       "      <th>neighborhood_banksville</th>\n",
       "      <th>neighborhood_bay_creek</th>\n",
       "      <th>neighborhood_beechview</th>\n",
       "      <th>...</th>\n",
       "      <th>neighborhood_west_view</th>\n",
       "      <th>neighborhood_westchester_gardens</th>\n",
       "      <th>neighborhood_westhaven_trails</th>\n",
       "      <th>neighborhood_westmorland</th>\n",
       "      <th>neighborhood_westside</th>\n",
       "      <th>neighborhood_wexford</th>\n",
       "      <th>neighborhood_williamson___marquette</th>\n",
       "      <th>neighborhood_willy_st</th>\n",
       "      <th>neighborhood_windgap</th>\n",
       "      <th>neighborhood_worthington_park</th>\n",
       "    </tr>\n",
       "  </thead>\n",
       "  <tbody>\n",
       "    <tr>\n",
       "      <th>0</th>\n",
       "      <td> False</td>\n",
       "      <td> False</td>\n",
       "      <td> False</td>\n",
       "      <td> False</td>\n",
       "      <td> False</td>\n",
       "      <td> False</td>\n",
       "      <td> False</td>\n",
       "      <td> False</td>\n",
       "      <td> False</td>\n",
       "      <td> False</td>\n",
       "      <td>...</td>\n",
       "      <td> False</td>\n",
       "      <td> False</td>\n",
       "      <td> False</td>\n",
       "      <td> False</td>\n",
       "      <td> False</td>\n",
       "      <td> False</td>\n",
       "      <td> False</td>\n",
       "      <td> False</td>\n",
       "      <td> False</td>\n",
       "      <td> False</td>\n",
       "    </tr>\n",
       "  </tbody>\n",
       "</table>\n",
       "<p>1 rows × 175 columns</p>\n",
       "</div>"
      ],
      "text/plain": [
       "  neighborhood_allentown neighborhood_allied_dunn's_marsh neighborhood_anthem  \\\n",
       "0                  False                            False               False   \n",
       "\n",
       "  neighborhood_arboretum neighborhood_aspinwall neighborhood_avalon  \\\n",
       "0                  False                  False               False   \n",
       "\n",
       "  neighborhood_ballantyne neighborhood_banksville neighborhood_bay_creek  \\\n",
       "0                   False                   False                  False   \n",
       "\n",
       "  neighborhood_beechview          ...           neighborhood_west_view  \\\n",
       "0                  False          ...                            False   \n",
       "\n",
       "  neighborhood_westchester_gardens neighborhood_westhaven_trails  \\\n",
       "0                            False                         False   \n",
       "\n",
       "  neighborhood_westmorland neighborhood_westside neighborhood_wexford  \\\n",
       "0                    False                 False                False   \n",
       "\n",
       "  neighborhood_williamson___marquette neighborhood_willy_st  \\\n",
       "0                               False                 False   \n",
       "\n",
       "  neighborhood_windgap neighborhood_worthington_park  \n",
       "0                False                         False  \n",
       "\n",
       "[1 rows x 175 columns]"
      ]
     },
     "execution_count": 284,
     "metadata": {},
     "output_type": "execute_result"
    }
   ],
   "source": [
    "neighborhoods = get_lists_as_dicts(df_business['neighborhoods'])\n",
    "df_n_neighborhoods = pd.io.json.json_normalize(neighborhoods.tolist())\n",
    "df_n_neighborhoods.fillna(False, inplace = True)\n",
    "cols = df_n_neighborhoods.columns.tolist()\n",
    "set_prefix_and_underscores(u\"neighborhood\", cols)\n",
    "df_n_neighborhoods.columns = cols\n",
    "\n",
    "df_n_neighborhoods.head(1)"
   ]
  },
  {
   "cell_type": "code",
   "execution_count": 288,
   "metadata": {
    "collapsed": false
   },
   "outputs": [
    {
     "data": {
      "text/html": [
       "<div style=\"max-height:1000px;max-width:1500px;overflow:auto;\">\n",
       "<table border=\"1\" class=\"dataframe\">\n",
       "  <thead>\n",
       "    <tr style=\"text-align: right;\">\n",
       "      <th></th>\n",
       "      <th>hour_friday_close</th>\n",
       "      <th>hour_friday_open</th>\n",
       "      <th>hour_monday_close</th>\n",
       "      <th>hour_monday_open</th>\n",
       "      <th>hour_saturday_close</th>\n",
       "      <th>hour_saturday_open</th>\n",
       "      <th>hour_sunday_close</th>\n",
       "      <th>hour_sunday_open</th>\n",
       "      <th>hour_thursday_close</th>\n",
       "      <th>hour_thursday_open</th>\n",
       "      <th>hour_tuesday_close</th>\n",
       "      <th>hour_tuesday_open</th>\n",
       "      <th>hour_wednesday_close</th>\n",
       "      <th>hour_wednesday_open</th>\n",
       "    </tr>\n",
       "  </thead>\n",
       "  <tbody>\n",
       "    <tr>\n",
       "      <th>0</th>\n",
       "      <td> 17:00</td>\n",
       "      <td> 08:00</td>\n",
       "      <td> 17:00</td>\n",
       "      <td> 08:00</td>\n",
       "      <td> </td>\n",
       "      <td> </td>\n",
       "      <td> </td>\n",
       "      <td> </td>\n",
       "      <td> 17:00</td>\n",
       "      <td> 08:00</td>\n",
       "      <td> 17:00</td>\n",
       "      <td> 08:00</td>\n",
       "      <td> 17:00</td>\n",
       "      <td> 08:00</td>\n",
       "    </tr>\n",
       "  </tbody>\n",
       "</table>\n",
       "</div>"
      ],
      "text/plain": [
       "  hour_friday_close hour_friday_open hour_monday_close hour_monday_open  \\\n",
       "0             17:00            08:00             17:00            08:00   \n",
       "\n",
       "  hour_saturday_close hour_saturday_open hour_sunday_close hour_sunday_open  \\\n",
       "0                                                                             \n",
       "\n",
       "  hour_thursday_close hour_thursday_open hour_tuesday_close hour_tuesday_open  \\\n",
       "0               17:00              08:00              17:00             08:00   \n",
       "\n",
       "  hour_wednesday_close hour_wednesday_open  \n",
       "0                17:00               08:00  "
      ]
     },
     "execution_count": 288,
     "metadata": {},
     "output_type": "execute_result"
    }
   ],
   "source": [
    "hours = df_business['hours']\n",
    "df_n_hours = pd.io.json.json_normalize(hours.tolist())\n",
    "df_n_hours.fillna(\"\", inplace = True)\n",
    "cols = df_n_hours.columns.tolist()\n",
    "set_prefix_and_underscores(u\"hour\", cols)\n",
    "df_n_hours.columns = cols\n",
    "\n",
    "df_n_hours.head(1)"
   ]
  },
  {
   "cell_type": "code",
   "execution_count": 289,
   "metadata": {
    "collapsed": false
   },
   "outputs": [
    {
     "data": {
      "text/html": [
       "<div style=\"max-height:1000px;max-width:1500px;overflow:auto;\">\n",
       "<table border=\"1\" class=\"dataframe\">\n",
       "  <thead>\n",
       "    <tr style=\"text-align: right;\">\n",
       "      <th></th>\n",
       "      <th>business_id</th>\n",
       "      <th>city</th>\n",
       "      <th>full_address</th>\n",
       "      <th>latitude</th>\n",
       "      <th>longitude</th>\n",
       "      <th>name</th>\n",
       "      <th>open</th>\n",
       "      <th>review_count</th>\n",
       "      <th>stars</th>\n",
       "      <th>state</th>\n",
       "      <th>...</th>\n",
       "      <th>hour_saturday_open</th>\n",
       "      <th>hour_sunday_close</th>\n",
       "      <th>hour_sunday_open</th>\n",
       "      <th>hour_thursday_close</th>\n",
       "      <th>hour_thursday_open</th>\n",
       "      <th>hour_tuesday_close</th>\n",
       "      <th>hour_tuesday_open</th>\n",
       "      <th>hour_wednesday_close</th>\n",
       "      <th>hour_wednesday_open</th>\n",
       "      <th>neighborhoods_count</th>\n",
       "    </tr>\n",
       "  </thead>\n",
       "  <tbody>\n",
       "    <tr>\n",
       "      <th>0</th>\n",
       "      <td> vcNAWiLM4dR7D2nwwJ7nCA</td>\n",
       "      <td> Phoenix</td>\n",
       "      <td> 4840 E Indian School Rd\\nSte 101\\nPhoenix, AZ ...</td>\n",
       "      <td> 33.499313</td>\n",
       "      <td>-111.983758</td>\n",
       "      <td> Eric Goldberg, MD</td>\n",
       "      <td> True</td>\n",
       "      <td> 9</td>\n",
       "      <td> 3.5</td>\n",
       "      <td> AZ</td>\n",
       "      <td>...</td>\n",
       "      <td> </td>\n",
       "      <td> </td>\n",
       "      <td> </td>\n",
       "      <td> 17:00</td>\n",
       "      <td> 08:00</td>\n",
       "      <td> 17:00</td>\n",
       "      <td> 08:00</td>\n",
       "      <td> 17:00</td>\n",
       "      <td> 08:00</td>\n",
       "      <td> 0</td>\n",
       "    </tr>\n",
       "  </tbody>\n",
       "</table>\n",
       "<p>1 rows × 983 columns</p>\n",
       "</div>"
      ],
      "text/plain": [
       "              business_id     city  \\\n",
       "0  vcNAWiLM4dR7D2nwwJ7nCA  Phoenix   \n",
       "\n",
       "                                        full_address   latitude   longitude  \\\n",
       "0  4840 E Indian School Rd\\nSte 101\\nPhoenix, AZ ...  33.499313 -111.983758   \n",
       "\n",
       "                name  open  review_count  stars state  ...   \\\n",
       "0  Eric Goldberg, MD  True             9    3.5    AZ  ...    \n",
       "\n",
       "  hour_saturday_open hour_sunday_close hour_sunday_open hour_thursday_close  \\\n",
       "0                                                                     17:00   \n",
       "\n",
       "  hour_thursday_open hour_tuesday_close hour_tuesday_open  \\\n",
       "0              08:00              17:00             08:00   \n",
       "\n",
       "  hour_wednesday_close hour_wednesday_open neighborhoods_count  \n",
       "0                17:00               08:00                   0  \n",
       "\n",
       "[1 rows x 983 columns]"
      ]
     },
     "execution_count": 289,
     "metadata": {},
     "output_type": "execute_result"
    }
   ],
   "source": [
    "df_businesses = df_business.merge(df_n_categories, how = \"left\", left_index = True, right_index = True)\n",
    "df_businesses = df_businesses.merge(df_n_neighborhoods, how = \"left\", left_index = True, right_index = True)\n",
    "df_businesses = df_businesses.merge(df_n_hours, how = \"left\", left_index = True, right_index = True)\n",
    "\n",
    "df_businesses['neighborhoods_count'] = get_values_counted(df_business['neighborhoods'])\n",
    "\n",
    "df_businesses.drop(['attributes', 'categories', 'neighborhoods', 'hours', 'type'], axis = 1, inplace = True)\n",
    "\n",
    "df_businesses.head(1)"
   ]
  },
  {
   "cell_type": "markdown",
   "metadata": {},
   "source": [
    "##user dataframe normalization"
   ]
  },
  {
   "cell_type": "code",
   "execution_count": 290,
   "metadata": {
    "collapsed": false
   },
   "outputs": [
    {
     "data": {
      "text/html": [
       "<div style=\"max-height:1000px;max-width:1500px;overflow:auto;\">\n",
       "<table border=\"1\" class=\"dataframe\">\n",
       "  <thead>\n",
       "    <tr style=\"text-align: right;\">\n",
       "      <th></th>\n",
       "      <th>compliment_cool</th>\n",
       "      <th>compliment_cute</th>\n",
       "      <th>compliment_funny</th>\n",
       "      <th>compliment_hot</th>\n",
       "      <th>compliment_list</th>\n",
       "      <th>compliment_more</th>\n",
       "      <th>compliment_note</th>\n",
       "      <th>compliment_photos</th>\n",
       "      <th>compliment_plain</th>\n",
       "      <th>compliment_profile</th>\n",
       "      <th>compliment_writer</th>\n",
       "    </tr>\n",
       "  </thead>\n",
       "  <tbody>\n",
       "    <tr>\n",
       "      <th>0</th>\n",
       "      <td> 78</td>\n",
       "      <td> 15</td>\n",
       "      <td> 11</td>\n",
       "      <td> 48</td>\n",
       "      <td> 0</td>\n",
       "      <td> 3</td>\n",
       "      <td> 20</td>\n",
       "      <td> 15</td>\n",
       "      <td> 25</td>\n",
       "      <td> 8</td>\n",
       "      <td> 9</td>\n",
       "    </tr>\n",
       "  </tbody>\n",
       "</table>\n",
       "</div>"
      ],
      "text/plain": [
       "   compliment_cool  compliment_cute  compliment_funny  compliment_hot  \\\n",
       "0               78               15                11              48   \n",
       "\n",
       "   compliment_list  compliment_more  compliment_note  compliment_photos  \\\n",
       "0                0                3               20                 15   \n",
       "\n",
       "   compliment_plain  compliment_profile  compliment_writer  \n",
       "0                25                   8                  9  "
      ]
     },
     "execution_count": 290,
     "metadata": {},
     "output_type": "execute_result"
    }
   ],
   "source": [
    "compliments = df_user['compliments']\n",
    "df_n_compliments = pd.io.json.json_normalize(compliments.tolist())\n",
    "df_n_compliments.fillna(0, inplace = True)\n",
    "cols = df_n_compliments.columns.tolist()\n",
    "set_prefix_and_underscores(u\"compliment\", cols)\n",
    "df_n_compliments.columns = cols\n",
    "\n",
    "df_n_compliments.head(1)"
   ]
  },
  {
   "cell_type": "code",
   "execution_count": 291,
   "metadata": {
    "collapsed": false
   },
   "outputs": [
    {
     "data": {
      "text/html": [
       "<div style=\"max-height:1000px;max-width:1500px;overflow:auto;\">\n",
       "<table border=\"1\" class=\"dataframe\">\n",
       "  <thead>\n",
       "    <tr style=\"text-align: right;\">\n",
       "      <th></th>\n",
       "      <th>vote_cool</th>\n",
       "      <th>vote_funny</th>\n",
       "      <th>vote_useful</th>\n",
       "    </tr>\n",
       "  </thead>\n",
       "  <tbody>\n",
       "    <tr>\n",
       "      <th>0</th>\n",
       "      <td> 245</td>\n",
       "      <td> 166</td>\n",
       "      <td> 278</td>\n",
       "    </tr>\n",
       "  </tbody>\n",
       "</table>\n",
       "</div>"
      ],
      "text/plain": [
       "   vote_cool  vote_funny  vote_useful\n",
       "0        245         166          278"
      ]
     },
     "execution_count": 291,
     "metadata": {},
     "output_type": "execute_result"
    }
   ],
   "source": [
    "votes = df_user['votes']\n",
    "df_n_votes = pd.io.json.json_normalize(votes.tolist())\n",
    "df_n_votes.fillna(0, inplace = True)\n",
    "cols = df_n_votes.columns.tolist()\n",
    "set_prefix_and_underscores(u\"vote\", cols)\n",
    "df_n_votes.columns = cols\n",
    "\n",
    "df_n_votes.head(1)"
   ]
  },
  {
   "cell_type": "code",
   "execution_count": 292,
   "metadata": {
    "collapsed": false
   },
   "outputs": [
    {
     "data": {
      "text/html": [
       "<div style=\"max-height:1000px;max-width:1500px;overflow:auto;\">\n",
       "<table border=\"1\" class=\"dataframe\">\n",
       "  <thead>\n",
       "    <tr style=\"text-align: right;\">\n",
       "      <th></th>\n",
       "      <th>elite_at_2005</th>\n",
       "      <th>elite_at_2006</th>\n",
       "      <th>elite_at_2007</th>\n",
       "      <th>elite_at_2008</th>\n",
       "      <th>elite_at_2009</th>\n",
       "      <th>elite_at_2010</th>\n",
       "      <th>elite_at_2011</th>\n",
       "      <th>elite_at_2012</th>\n",
       "      <th>elite_at_2013</th>\n",
       "      <th>elite_at_2014</th>\n",
       "      <th>elite_at_2015</th>\n",
       "    </tr>\n",
       "  </thead>\n",
       "  <tbody>\n",
       "    <tr>\n",
       "      <th>0</th>\n",
       "      <td> True</td>\n",
       "      <td> True</td>\n",
       "      <td> False</td>\n",
       "      <td> False</td>\n",
       "      <td> False</td>\n",
       "      <td> False</td>\n",
       "      <td> False</td>\n",
       "      <td> False</td>\n",
       "      <td> False</td>\n",
       "      <td> False</td>\n",
       "      <td> False</td>\n",
       "    </tr>\n",
       "  </tbody>\n",
       "</table>\n",
       "</div>"
      ],
      "text/plain": [
       "  elite_at_2005 elite_at_2006 elite_at_2007 elite_at_2008 elite_at_2009  \\\n",
       "0          True          True         False         False         False   \n",
       "\n",
       "  elite_at_2010 elite_at_2011 elite_at_2012 elite_at_2013 elite_at_2014  \\\n",
       "0         False         False         False         False         False   \n",
       "\n",
       "  elite_at_2015  \n",
       "0         False  "
      ]
     },
     "execution_count": 292,
     "metadata": {},
     "output_type": "execute_result"
    }
   ],
   "source": [
    "elite = get_lists_as_dicts(df_user['elite'])\n",
    "df_n_elite = pd.io.json.json_normalize(elite.tolist())\n",
    "df_n_elite.fillna(False, inplace = True)\n",
    "cols = df_n_elite.columns.tolist()\n",
    "set_prefix_and_underscores(u\"elite_at\", cols)\n",
    "df_n_elite.columns = cols\n",
    "\n",
    "df_n_elite.head(1)"
   ]
  },
  {
   "cell_type": "code",
   "execution_count": 293,
   "metadata": {
    "collapsed": false
   },
   "outputs": [
    {
     "data": {
      "text/html": [
       "<div style=\"max-height:1000px;max-width:1500px;overflow:auto;\">\n",
       "<table border=\"1\" class=\"dataframe\">\n",
       "  <thead>\n",
       "    <tr style=\"text-align: right;\">\n",
       "      <th></th>\n",
       "      <th>user_id</th>\n",
       "      <th>name</th>\n",
       "      <th>friends_count</th>\n",
       "      <th>fans</th>\n",
       "      <th>review_count</th>\n",
       "      <th>average_stars</th>\n",
       "      <th>yelping_since</th>\n",
       "      <th>compliment_cool</th>\n",
       "      <th>compliment_cute</th>\n",
       "      <th>compliment_funny</th>\n",
       "      <th>...</th>\n",
       "      <th>elite_at_2007</th>\n",
       "      <th>elite_at_2008</th>\n",
       "      <th>elite_at_2009</th>\n",
       "      <th>elite_at_2010</th>\n",
       "      <th>elite_at_2011</th>\n",
       "      <th>elite_at_2012</th>\n",
       "      <th>elite_at_2013</th>\n",
       "      <th>elite_at_2014</th>\n",
       "      <th>elite_at_2015</th>\n",
       "      <th>friends</th>\n",
       "    </tr>\n",
       "  </thead>\n",
       "  <tbody>\n",
       "    <tr>\n",
       "      <th>0</th>\n",
       "      <td> 18kPq7GPye-YQ3LyKyAZPw</td>\n",
       "      <td> Russel</td>\n",
       "      <td> 206</td>\n",
       "      <td> 69</td>\n",
       "      <td> 108</td>\n",
       "      <td> 4.14</td>\n",
       "      <td> 2004-10</td>\n",
       "      <td> 78</td>\n",
       "      <td> 15</td>\n",
       "      <td> 11</td>\n",
       "      <td>...</td>\n",
       "      <td> False</td>\n",
       "      <td> False</td>\n",
       "      <td> False</td>\n",
       "      <td> False</td>\n",
       "      <td> False</td>\n",
       "      <td> False</td>\n",
       "      <td> False</td>\n",
       "      <td> False</td>\n",
       "      <td> False</td>\n",
       "      <td> rpOyqD_893cqmDAtJLbdog,4U9kSBLuBDU391x6bxU-YA,...</td>\n",
       "    </tr>\n",
       "  </tbody>\n",
       "</table>\n",
       "<p>1 rows × 33 columns</p>\n",
       "</div>"
      ],
      "text/plain": [
       "                  user_id    name  friends_count  fans  review_count  \\\n",
       "0  18kPq7GPye-YQ3LyKyAZPw  Russel            206    69           108   \n",
       "\n",
       "   average_stars yelping_since  compliment_cool  compliment_cute  \\\n",
       "0           4.14       2004-10               78               15   \n",
       "\n",
       "   compliment_funny        ...         elite_at_2007  elite_at_2008  \\\n",
       "0                11        ...                 False          False   \n",
       "\n",
       "   elite_at_2009  elite_at_2010  elite_at_2011  elite_at_2012  elite_at_2013  \\\n",
       "0          False          False          False          False          False   \n",
       "\n",
       "   elite_at_2014  elite_at_2015  \\\n",
       "0          False          False   \n",
       "\n",
       "                                             friends  \n",
       "0  rpOyqD_893cqmDAtJLbdog,4U9kSBLuBDU391x6bxU-YA,...  \n",
       "\n",
       "[1 rows x 33 columns]"
      ]
     },
     "execution_count": 293,
     "metadata": {},
     "output_type": "execute_result"
    }
   ],
   "source": [
    "df_users = df_user.merge(df_n_compliments, how = \"left\", left_index = True, right_index = True)\n",
    "df_users = df_users.merge(df_n_votes, how = \"left\", left_index = True, right_index = True)\n",
    "df_users = df_users.merge(df_n_elite, how = \"left\", left_index = True, right_index = True)\n",
    "\n",
    "df_users['friends_count'] = get_values_counted(df_user['friends'])\n",
    "df_users['friends'] = get_lists_as_strings(df_user['friends'])\n",
    "\n",
    "df_users.drop(['compliments', 'votes', 'elite', 'type'], axis = 1, inplace = True)\n",
    "\n",
    "cols = df_users.columns.tolist()\n",
    "cols.remove(u\"user_id\")\n",
    "cols.insert(0, u\"user_id\")\n",
    "cols.remove(u\"name\")\n",
    "cols.insert(1, u\"name\")\n",
    "cols.remove(u\"friends_count\")\n",
    "cols.insert(2, u\"friends_count\")\n",
    "cols.remove(u\"fans\")\n",
    "cols.insert(3, u\"fans\")\n",
    "cols.remove(u\"review_count\")\n",
    "cols.insert(4, u\"review_count\")\n",
    "cols.remove(u\"friends\")\n",
    "cols.append(u\"friends\")\n",
    "df_users = df_users[cols]\n",
    "\n",
    "df_users.head(1)"
   ]
  },
  {
   "cell_type": "markdown",
   "metadata": {},
   "source": [
    "##checkin dataframe normalization"
   ]
  },
  {
   "cell_type": "code",
   "execution_count": 294,
   "metadata": {
    "collapsed": false
   },
   "outputs": [
    {
     "data": {
      "text/html": [
       "<div style=\"max-height:1000px;max-width:1500px;overflow:auto;\">\n",
       "<table border=\"1\" class=\"dataframe\">\n",
       "  <thead>\n",
       "    <tr style=\"text-align: right;\">\n",
       "      <th></th>\n",
       "      <th>checkin_at_00_0</th>\n",
       "      <th>checkin_at_00_1</th>\n",
       "      <th>checkin_at_00_2</th>\n",
       "      <th>checkin_at_00_3</th>\n",
       "      <th>checkin_at_00_4</th>\n",
       "      <th>checkin_at_00_5</th>\n",
       "      <th>checkin_at_00_6</th>\n",
       "      <th>checkin_at_01_0</th>\n",
       "      <th>checkin_at_01_1</th>\n",
       "      <th>checkin_at_01_2</th>\n",
       "      <th>...</th>\n",
       "      <th>checkin_at_22_4</th>\n",
       "      <th>checkin_at_22_5</th>\n",
       "      <th>checkin_at_22_6</th>\n",
       "      <th>checkin_at_23_0</th>\n",
       "      <th>checkin_at_23_1</th>\n",
       "      <th>checkin_at_23_2</th>\n",
       "      <th>checkin_at_23_3</th>\n",
       "      <th>checkin_at_23_4</th>\n",
       "      <th>checkin_at_23_5</th>\n",
       "      <th>checkin_at_23_6</th>\n",
       "    </tr>\n",
       "  </thead>\n",
       "  <tbody>\n",
       "    <tr>\n",
       "      <th>0</th>\n",
       "      <td> 0</td>\n",
       "      <td> 0</td>\n",
       "      <td> 0</td>\n",
       "      <td> 0</td>\n",
       "      <td> 0</td>\n",
       "      <td> 0</td>\n",
       "      <td> 0</td>\n",
       "      <td> 0</td>\n",
       "      <td> 0</td>\n",
       "      <td> 0</td>\n",
       "      <td>...</td>\n",
       "      <td> 0</td>\n",
       "      <td> 0</td>\n",
       "      <td> 0</td>\n",
       "      <td> 0</td>\n",
       "      <td> 0</td>\n",
       "      <td> 0</td>\n",
       "      <td> 0</td>\n",
       "      <td> 0</td>\n",
       "      <td> 0</td>\n",
       "      <td> 0</td>\n",
       "    </tr>\n",
       "  </tbody>\n",
       "</table>\n",
       "<p>1 rows × 168 columns</p>\n",
       "</div>"
      ],
      "text/plain": [
       "   checkin_at_00_0  checkin_at_00_1  checkin_at_00_2  checkin_at_00_3  \\\n",
       "0                0                0                0                0   \n",
       "\n",
       "   checkin_at_00_4  checkin_at_00_5  checkin_at_00_6  checkin_at_01_0  \\\n",
       "0                0                0                0                0   \n",
       "\n",
       "   checkin_at_01_1  checkin_at_01_2       ...         checkin_at_22_4  \\\n",
       "0                0                0       ...                       0   \n",
       "\n",
       "   checkin_at_22_5  checkin_at_22_6  checkin_at_23_0  checkin_at_23_1  \\\n",
       "0                0                0                0                0   \n",
       "\n",
       "   checkin_at_23_2  checkin_at_23_3  checkin_at_23_4  checkin_at_23_5  \\\n",
       "0                0                0                0                0   \n",
       "\n",
       "   checkin_at_23_6  \n",
       "0                0  \n",
       "\n",
       "[1 rows x 168 columns]"
      ]
     },
     "execution_count": 294,
     "metadata": {},
     "output_type": "execute_result"
    }
   ],
   "source": [
    "checkin_info = df_checkin['checkin_info']\n",
    "df_n_checkin_info = pd.io.json.json_normalize(checkin_info.tolist())\n",
    "df_n_checkin_info.fillna(0, inplace = True)\n",
    "cols = df_n_checkin_info.columns.tolist()\n",
    "format_unifier = lambda string: u\"0\" + string if re.search(r\"^[0-9]-[0-6]$\", string) else string\n",
    "cols = map(format_unifier, cols)\n",
    "set_prefix_and_underscores(u\"checkin_at\", cols)\n",
    "df_n_checkin_info.columns = cols\n",
    "cols = sorted(cols)\n",
    "df_n_checkin_info = df_n_checkin_info[cols]\n",
    "\n",
    "df_n_checkin_info.head(1)"
   ]
  },
  {
   "cell_type": "code",
   "execution_count": 295,
   "metadata": {
    "collapsed": false
   },
   "outputs": [
    {
     "data": {
      "text/html": [
       "<div style=\"max-height:1000px;max-width:1500px;overflow:auto;\">\n",
       "<table border=\"1\" class=\"dataframe\">\n",
       "  <thead>\n",
       "    <tr style=\"text-align: right;\">\n",
       "      <th></th>\n",
       "      <th>business_id</th>\n",
       "      <th>checkin_at_00_0</th>\n",
       "      <th>checkin_at_00_1</th>\n",
       "      <th>checkin_at_00_2</th>\n",
       "      <th>checkin_at_00_3</th>\n",
       "      <th>checkin_at_00_4</th>\n",
       "      <th>checkin_at_00_5</th>\n",
       "      <th>checkin_at_00_6</th>\n",
       "      <th>checkin_at_01_0</th>\n",
       "      <th>checkin_at_01_1</th>\n",
       "      <th>...</th>\n",
       "      <th>checkin_at_22_4</th>\n",
       "      <th>checkin_at_22_5</th>\n",
       "      <th>checkin_at_22_6</th>\n",
       "      <th>checkin_at_23_0</th>\n",
       "      <th>checkin_at_23_1</th>\n",
       "      <th>checkin_at_23_2</th>\n",
       "      <th>checkin_at_23_3</th>\n",
       "      <th>checkin_at_23_4</th>\n",
       "      <th>checkin_at_23_5</th>\n",
       "      <th>checkin_at_23_6</th>\n",
       "    </tr>\n",
       "  </thead>\n",
       "  <tbody>\n",
       "    <tr>\n",
       "      <th>0</th>\n",
       "      <td> cE27W9VPgO88Qxe4ol6y_g</td>\n",
       "      <td> 0</td>\n",
       "      <td> 0</td>\n",
       "      <td> 0</td>\n",
       "      <td> 0</td>\n",
       "      <td> 0</td>\n",
       "      <td> 0</td>\n",
       "      <td> 0</td>\n",
       "      <td> 0</td>\n",
       "      <td> 0</td>\n",
       "      <td>...</td>\n",
       "      <td> 0</td>\n",
       "      <td> 0</td>\n",
       "      <td> 0</td>\n",
       "      <td> 0</td>\n",
       "      <td> 0</td>\n",
       "      <td> 0</td>\n",
       "      <td> 0</td>\n",
       "      <td> 0</td>\n",
       "      <td> 0</td>\n",
       "      <td> 0</td>\n",
       "    </tr>\n",
       "  </tbody>\n",
       "</table>\n",
       "<p>1 rows × 169 columns</p>\n",
       "</div>"
      ],
      "text/plain": [
       "              business_id  checkin_at_00_0  checkin_at_00_1  checkin_at_00_2  \\\n",
       "0  cE27W9VPgO88Qxe4ol6y_g                0                0                0   \n",
       "\n",
       "   checkin_at_00_3  checkin_at_00_4  checkin_at_00_5  checkin_at_00_6  \\\n",
       "0                0                0                0                0   \n",
       "\n",
       "   checkin_at_01_0  checkin_at_01_1       ...         checkin_at_22_4  \\\n",
       "0                0                0       ...                       0   \n",
       "\n",
       "   checkin_at_22_5  checkin_at_22_6  checkin_at_23_0  checkin_at_23_1  \\\n",
       "0                0                0                0                0   \n",
       "\n",
       "   checkin_at_23_2  checkin_at_23_3  checkin_at_23_4  checkin_at_23_5  \\\n",
       "0                0                0                0                0   \n",
       "\n",
       "   checkin_at_23_6  \n",
       "0                0  \n",
       "\n",
       "[1 rows x 169 columns]"
      ]
     },
     "execution_count": 295,
     "metadata": {},
     "output_type": "execute_result"
    }
   ],
   "source": [
    "df_checkins = df_checkin.merge(df_n_checkin_info, how = \"left\", left_index = True, right_index = True)\n",
    "\n",
    "df_checkins.drop(['checkin_info', 'type'], axis = 1, inplace = True)\n",
    "\n",
    "df_checkins.head(1)"
   ]
  },
  {
   "cell_type": "markdown",
   "metadata": {},
   "source": [
    "##tip dataframe"
   ]
  },
  {
   "cell_type": "code",
   "execution_count": 296,
   "metadata": {
    "collapsed": false
   },
   "outputs": [
    {
     "data": {
      "text/html": [
       "<div style=\"max-height:1000px;max-width:1500px;overflow:auto;\">\n",
       "<table border=\"1\" class=\"dataframe\">\n",
       "  <thead>\n",
       "    <tr style=\"text-align: right;\">\n",
       "      <th></th>\n",
       "      <th>business_id</th>\n",
       "      <th>date</th>\n",
       "      <th>likes</th>\n",
       "      <th>text</th>\n",
       "      <th>user_id</th>\n",
       "    </tr>\n",
       "  </thead>\n",
       "  <tbody>\n",
       "    <tr>\n",
       "      <th>0</th>\n",
       "      <td> cE27W9VPgO88Qxe4ol6y_g</td>\n",
       "      <td>2013-04-18</td>\n",
       "      <td> 0</td>\n",
       "      <td> Don't waste your time.</td>\n",
       "      <td> -6rEfobYjMxpUWLNxszaxQ</td>\n",
       "    </tr>\n",
       "  </tbody>\n",
       "</table>\n",
       "</div>"
      ],
      "text/plain": [
       "              business_id       date  likes                    text  \\\n",
       "0  cE27W9VPgO88Qxe4ol6y_g 2013-04-18      0  Don't waste your time.   \n",
       "\n",
       "                  user_id  \n",
       "0  -6rEfobYjMxpUWLNxszaxQ  "
      ]
     },
     "execution_count": 296,
     "metadata": {},
     "output_type": "execute_result"
    }
   ],
   "source": [
    "df_tips = df_tip.drop(['type'], axis = 1)\n",
    "\n",
    "df_tips.head(1)"
   ]
  },
  {
   "cell_type": "markdown",
   "metadata": {},
   "source": [
    "##review dataframe normalization"
   ]
  },
  {
   "cell_type": "code",
   "execution_count": 297,
   "metadata": {
    "collapsed": false
   },
   "outputs": [
    {
     "data": {
      "text/html": [
       "<div style=\"max-height:1000px;max-width:1500px;overflow:auto;\">\n",
       "<table border=\"1\" class=\"dataframe\">\n",
       "  <thead>\n",
       "    <tr style=\"text-align: right;\">\n",
       "      <th></th>\n",
       "      <th>vote_cool</th>\n",
       "      <th>vote_funny</th>\n",
       "      <th>vote_useful</th>\n",
       "    </tr>\n",
       "  </thead>\n",
       "  <tbody>\n",
       "    <tr>\n",
       "      <th>0</th>\n",
       "      <td> 1</td>\n",
       "      <td> 0</td>\n",
       "      <td> 2</td>\n",
       "    </tr>\n",
       "  </tbody>\n",
       "</table>\n",
       "</div>"
      ],
      "text/plain": [
       "   vote_cool  vote_funny  vote_useful\n",
       "0          1           0            2"
      ]
     },
     "execution_count": 297,
     "metadata": {},
     "output_type": "execute_result"
    }
   ],
   "source": [
    "votes = df_review['votes']\n",
    "df_n_votes = pd.io.json.json_normalize(votes.tolist())\n",
    "df_n_votes.fillna(0, inplace = True)\n",
    "cols = df_n_votes.columns.tolist()\n",
    "set_prefix_and_underscores(u\"vote\", cols)\n",
    "df_n_votes.columns = cols\n",
    "\n",
    "df_n_votes.head(1)"
   ]
  },
  {
   "cell_type": "code",
   "execution_count": 298,
   "metadata": {
    "collapsed": false
   },
   "outputs": [
    {
     "data": {
      "text/html": [
       "<div style=\"max-height:1000px;max-width:1500px;overflow:auto;\">\n",
       "<table border=\"1\" class=\"dataframe\">\n",
       "  <thead>\n",
       "    <tr style=\"text-align: right;\">\n",
       "      <th></th>\n",
       "      <th>business_id</th>\n",
       "      <th>date</th>\n",
       "      <th>review_id</th>\n",
       "      <th>stars</th>\n",
       "      <th>text</th>\n",
       "      <th>user_id</th>\n",
       "      <th>vote_cool</th>\n",
       "      <th>vote_funny</th>\n",
       "      <th>vote_useful</th>\n",
       "    </tr>\n",
       "  </thead>\n",
       "  <tbody>\n",
       "    <tr>\n",
       "      <th>0</th>\n",
       "      <td> vcNAWiLM4dR7D2nwwJ7nCA</td>\n",
       "      <td>2007-05-17</td>\n",
       "      <td> 15SdjuK7DmYqUAj6rjGowg</td>\n",
       "      <td> 5</td>\n",
       "      <td> dr. goldberg offers everything i look for in a...</td>\n",
       "      <td> Xqd0DzHaiyRqVH3WRG7hzg</td>\n",
       "      <td> 1</td>\n",
       "      <td> 0</td>\n",
       "      <td> 2</td>\n",
       "    </tr>\n",
       "  </tbody>\n",
       "</table>\n",
       "</div>"
      ],
      "text/plain": [
       "              business_id       date               review_id  stars  \\\n",
       "0  vcNAWiLM4dR7D2nwwJ7nCA 2007-05-17  15SdjuK7DmYqUAj6rjGowg      5   \n",
       "\n",
       "                                                text                 user_id  \\\n",
       "0  dr. goldberg offers everything i look for in a...  Xqd0DzHaiyRqVH3WRG7hzg   \n",
       "\n",
       "   vote_cool  vote_funny  vote_useful  \n",
       "0          1           0            2  "
      ]
     },
     "execution_count": 298,
     "metadata": {},
     "output_type": "execute_result"
    }
   ],
   "source": [
    "df_reviews = df_review.merge(df_n_votes, how = \"left\", left_index = True, right_index = True)\n",
    "\n",
    "df_reviews.drop(['votes', 'type'], axis = 1, inplace = True)\n",
    "\n",
    "df_reviews.head(1)"
   ]
  },
  {
   "cell_type": "code",
   "execution_count": 299,
   "metadata": {
    "collapsed": false
   },
   "outputs": [],
   "source": [
    "df_users.drop(\"friends\", axis = 1).head(100).to_excel(\"users.xls\", index = False, encoding = \"utf-8\")\n",
    "df_users.head(100).to_csv(\"users.csv\", sep = \",\", index = False, encoding = \"utf-8\", quote = csv.QUOTE_NONNUMERIC)"
   ]
  },
  {
   "cell_type": "code",
   "execution_count": 300,
   "metadata": {
    "collapsed": false
   },
   "outputs": [],
   "source": [
    "#df_businesses.head(100).to_excel(\"businesses.xls\", index = False, encoding = \"utf-8\")\n",
    "df_businesses.head(100).to_csv(\"businesses.csv\", sep = \",\", index = False, encoding = \"utf-8\", quote = csv.QUOTE_NONNUMERIC)"
   ]
  },
  {
   "cell_type": "code",
   "execution_count": 301,
   "metadata": {
    "collapsed": true
   },
   "outputs": [],
   "source": [
    "df_reviews.head(100).to_excel(\"reviews.xls\", index = False, encoding = \"utf-8\")\n",
    "df_reviews.head(100).to_csv(\"reviews.csv\", sep = \",\", index = False, encoding = \"utf-8\", quote = csv.QUOTE_NONNUMERIC)"
   ]
  },
  {
   "cell_type": "code",
   "execution_count": 302,
   "metadata": {
    "collapsed": true
   },
   "outputs": [],
   "source": [
    "df_tips.head(100).to_excel(\"tips.xls\", index = False, encoding = \"utf-8\")\n",
    "df_tips.head(100).to_csv(\"tips.csv\", sep = \",\", index = False, encoding = \"utf-8\", quote = csv.QUOTE_NONNUMERIC)"
   ]
  },
  {
   "cell_type": "code",
   "execution_count": 303,
   "metadata": {
    "collapsed": true
   },
   "outputs": [],
   "source": [
    "df_checkins.head(100).to_excel(\"checkins.xls\", index = False, encoding = \"utf-8\")\n",
    "df_checkins.head(100).to_csv(\"checkins.csv\", sep = \",\", index = False, encoding = \"utf-8\", quote = csv.QUOTE_NONNUMERIC)"
   ]
  },
  {
   "cell_type": "code",
   "execution_count": null,
   "metadata": {
    "collapsed": true
   },
   "outputs": [],
   "source": []
  }
 ],
 "metadata": {
  "kernelspec": {
   "display_name": "Python 2",
   "language": "python",
   "name": "python2"
  },
  "language_info": {
   "codemirror_mode": {
    "name": "ipython",
    "version": 2
   },
   "file_extension": ".py",
   "mimetype": "text/x-python",
   "name": "python",
   "nbconvert_exporter": "python",
   "pygments_lexer": "ipython2",
   "version": "2.7.10"
  }
 },
 "nbformat": 4,
 "nbformat_minor": 0
}
